{
 "cells": [
  {
   "cell_type": "code",
   "execution_count": 1,
   "id": "ec2d1e68",
   "metadata": {},
   "outputs": [
    {
     "data": {
      "text/plain": [
       "'0.17.1.dev0'"
      ]
     },
     "execution_count": 1,
     "metadata": {},
     "output_type": "execute_result"
    }
   ],
   "source": [
    "import teqp\n",
    "teqp.__version__"
   ]
  },
  {
   "cell_type": "code",
   "execution_count": 2,
   "id": "e8567099",
   "metadata": {},
   "outputs": [],
   "source": [
    "base = {\n",
    "    \"kind\": \"PCSAFT\",\n",
    "    \"model\": {\n",
    "        \"names\": [\"Methane\", \"Ethane\"],\n",
    "        \"kmat\": [[0.0, 0.0],[0.0,0.0]]\n",
    "    }\n",
    "}\n",
    "import numpy as np\n",
    "\n",
    "f = teqp.teqp.JSONFitter(base, [[\"/model/kmat/0/1\",\"/model/kmat/1/0\"]])\n",
    "params = np.array([0.01])\n",
    "def py_set(params):\n",
    "    base['model/kmat/0/1'] = params[0] \n",
    "    base['model/kmat/1/0'] = params[0]\n",
    "    return teqp._make_model(base, validate=False)"
   ]
  },
  {
   "cell_type": "code",
   "execution_count": 3,
   "id": "be1b0756",
   "metadata": {},
   "outputs": [
    {
     "name": "stdout",
     "output_type": "stream",
     "text": [
      "2.69 µs ± 87.2 ns per loop (mean ± std. dev. of 7 runs, 100,000 loops each)\n"
     ]
    }
   ],
   "source": [
    "%timeit f.set(params, False)"
   ]
  },
  {
   "cell_type": "code",
   "execution_count": 4,
   "id": "de3af7bb",
   "metadata": {},
   "outputs": [
    {
     "name": "stdout",
     "output_type": "stream",
     "text": [
      "3.89 µs ± 37.1 ns per loop (mean ± std. dev. of 7 runs, 100,000 loops each)\n"
     ]
    }
   ],
   "source": [
    "%timeit py_set(params)"
   ]
  }
 ],
 "metadata": {
  "kernelspec": {
   "display_name": "Python 3 (ipykernel)",
   "language": "python",
   "name": "python3"
  },
  "language_info": {
   "codemirror_mode": {
    "name": "ipython",
    "version": 3
   },
   "file_extension": ".py",
   "mimetype": "text/x-python",
   "name": "python",
   "nbconvert_exporter": "python",
   "pygments_lexer": "ipython3",
   "version": "3.10.6"
  }
 },
 "nbformat": 4,
 "nbformat_minor": 5
}
